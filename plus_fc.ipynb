{
 "cells": [
  {
   "cell_type": "markdown",
   "metadata": {},
   "source": [
    "### 导入依赖"
   ]
  },
  {
   "cell_type": "code",
   "execution_count": 1,
   "metadata": {
    "ExecuteTime": {
     "end_time": "2020-12-16T13:14:12.518940Z",
     "start_time": "2020-12-16T13:14:10.459912Z"
    }
   },
   "outputs": [
    {
     "name": "stderr",
     "output_type": "stream",
     "text": [
      "E:\\Anaconda3Install\\lib\\site-packages\\tensorflow\\python\\framework\\dtypes.py:526: FutureWarning: Passing (type, 1) or '1type' as a synonym of type is deprecated; in a future version of numpy, it will be understood as (type, (1,)) / '(1,)type'.\n",
      "  _np_qint8 = np.dtype([(\"qint8\", np.int8, 1)])\n",
      "E:\\Anaconda3Install\\lib\\site-packages\\tensorflow\\python\\framework\\dtypes.py:527: FutureWarning: Passing (type, 1) or '1type' as a synonym of type is deprecated; in a future version of numpy, it will be understood as (type, (1,)) / '(1,)type'.\n",
      "  _np_quint8 = np.dtype([(\"quint8\", np.uint8, 1)])\n",
      "E:\\Anaconda3Install\\lib\\site-packages\\tensorflow\\python\\framework\\dtypes.py:528: FutureWarning: Passing (type, 1) or '1type' as a synonym of type is deprecated; in a future version of numpy, it will be understood as (type, (1,)) / '(1,)type'.\n",
      "  _np_qint16 = np.dtype([(\"qint16\", np.int16, 1)])\n",
      "E:\\Anaconda3Install\\lib\\site-packages\\tensorflow\\python\\framework\\dtypes.py:529: FutureWarning: Passing (type, 1) or '1type' as a synonym of type is deprecated; in a future version of numpy, it will be understood as (type, (1,)) / '(1,)type'.\n",
      "  _np_quint16 = np.dtype([(\"quint16\", np.uint16, 1)])\n",
      "E:\\Anaconda3Install\\lib\\site-packages\\tensorflow\\python\\framework\\dtypes.py:530: FutureWarning: Passing (type, 1) or '1type' as a synonym of type is deprecated; in a future version of numpy, it will be understood as (type, (1,)) / '(1,)type'.\n",
      "  _np_qint32 = np.dtype([(\"qint32\", np.int32, 1)])\n",
      "E:\\Anaconda3Install\\lib\\site-packages\\tensorflow\\python\\framework\\dtypes.py:535: FutureWarning: Passing (type, 1) or '1type' as a synonym of type is deprecated; in a future version of numpy, it will be understood as (type, (1,)) / '(1,)type'.\n",
      "  np_resource = np.dtype([(\"resource\", np.ubyte, 1)])\n"
     ]
    }
   ],
   "source": [
    "import pandas as pd\n",
    "import tensorflow as tf\n",
    "from tensorflow.examples.tutorials.mnist import input_data\n",
    "from matplotlib import pyplot as plt\n",
    "import numpy as np\n",
    "import datetime\n",
    "import pylab"
   ]
  },
  {
   "cell_type": "code",
   "execution_count": 2,
   "metadata": {
    "ExecuteTime": {
     "end_time": "2020-12-16T13:14:14.269357Z",
     "start_time": "2020-12-16T13:14:14.260382Z"
    }
   },
   "outputs": [
    {
     "name": "stdout",
     "output_type": "stream",
     "text": [
      "1.13.1\n"
     ]
    }
   ],
   "source": [
    "print(tf.__version__)"
   ]
  },
  {
   "cell_type": "markdown",
   "metadata": {},
   "source": [
    "### 查看数据"
   ]
  },
  {
   "cell_type": "code",
   "execution_count": 4,
   "metadata": {
    "ExecuteTime": {
     "end_time": "2020-12-16T13:14:23.793641Z",
     "start_time": "2020-12-16T13:14:23.476479Z"
    },
    "scrolled": true
   },
   "outputs": [
    {
     "name": "stdout",
     "output_type": "stream",
     "text": [
      "WARNING:tensorflow:From <ipython-input-4-6bf397889cf5>:2: read_data_sets (from tensorflow.contrib.learn.python.learn.datasets.mnist) is deprecated and will be removed in a future version.\n",
      "Instructions for updating:\n",
      "Please use alternatives such as official/mnist/dataset.py from tensorflow/models.\n",
      "WARNING:tensorflow:From E:\\Anaconda3Install\\lib\\site-packages\\tensorflow\\contrib\\learn\\python\\learn\\datasets\\mnist.py:260: maybe_download (from tensorflow.contrib.learn.python.learn.datasets.base) is deprecated and will be removed in a future version.\n",
      "Instructions for updating:\n",
      "Please write your own downloading logic.\n",
      "WARNING:tensorflow:From E:\\Anaconda3Install\\lib\\site-packages\\tensorflow\\contrib\\learn\\python\\learn\\datasets\\mnist.py:262: extract_images (from tensorflow.contrib.learn.python.learn.datasets.mnist) is deprecated and will be removed in a future version.\n",
      "Instructions for updating:\n",
      "Please use tf.data to implement this functionality.\n",
      "Extracting data/fashion\\train-images-idx3-ubyte.gz\n",
      "WARNING:tensorflow:From E:\\Anaconda3Install\\lib\\site-packages\\tensorflow\\contrib\\learn\\python\\learn\\datasets\\mnist.py:267: extract_labels (from tensorflow.contrib.learn.python.learn.datasets.mnist) is deprecated and will be removed in a future version.\n",
      "Instructions for updating:\n",
      "Please use tf.data to implement this functionality.\n",
      "Extracting data/fashion\\train-labels-idx1-ubyte.gz\n",
      "WARNING:tensorflow:From E:\\Anaconda3Install\\lib\\site-packages\\tensorflow\\contrib\\learn\\python\\learn\\datasets\\mnist.py:110: dense_to_one_hot (from tensorflow.contrib.learn.python.learn.datasets.mnist) is deprecated and will be removed in a future version.\n",
      "Instructions for updating:\n",
      "Please use tf.one_hot on tensors.\n",
      "Extracting data/fashion\\t10k-images-idx3-ubyte.gz\n",
      "Extracting data/fashion\\t10k-labels-idx1-ubyte.gz\n",
      "WARNING:tensorflow:From E:\\Anaconda3Install\\lib\\site-packages\\tensorflow\\contrib\\learn\\python\\learn\\datasets\\mnist.py:290: DataSet.__init__ (from tensorflow.contrib.learn.python.learn.datasets.mnist) is deprecated and will be removed in a future version.\n",
      "Instructions for updating:\n",
      "Please use alternatives such as official/mnist/dataset.py from tensorflow/models.\n",
      " 输入数据： (55000, 784)\n"
     ]
    }
   ],
   "source": [
    "mnist = input_data.read_data_sets(\n",
    "    'data/fashion', source_url='http://fashion-mnist.s3-website.eu-central-1.amazonaws.com/', one_hot=True)\n",
    "# mnist = input_data.read_data_sets('fashion', one_hot=True)\n",
    "print(' 输入数据：', mnist.train.images.shape)\n",
    "\n",
    "# train = mnist.train.images\n",
    "# test = mnist.test.images\n",
    "# print(' train_shape :', train.shape)\n",
    "# print(' test_shape :', test.shape)"
   ]
  },
  {
   "cell_type": "markdown",
   "metadata": {},
   "source": [
    "### 查看图片"
   ]
  },
  {
   "cell_type": "code",
   "execution_count": 6,
   "metadata": {
    "ExecuteTime": {
     "end_time": "2020-12-16T13:14:33.486754Z",
     "start_time": "2020-12-16T13:14:32.804006Z"
    }
   },
   "outputs": [
    {
     "data": {
      "image/png": "[encoded data removed]",
      "text/plain": [
       "<Figure size 432x288 with 2 Axes>"
      ]
     },
     "metadata": {
      "needs_background": "light"
     },
     "output_type": "display_data"
    }
   ],
   "source": [
    "# 数据归一化\n",
    "from sklearn.preprocessing import StandardScaler\n",
    "\n",
    "standardScaler = StandardScaler()\n",
    "mnist_train = standardScaler.fit_transform(mnist.train.images.astype(np.float32).reshape(-1,1)).reshape(-1,28,28)\n",
    "# 展示一下这个数据集的图像\n",
    "def show_single_image(img_arr):\n",
    "    plt.imshow(img_arr,cmap=\"binary\")\n",
    "    plt.colorbar()\n",
    "    plt.show()\n",
    "show_single_image(mnist_train[1])"
   ]
  },
  {
   "cell_type": "code",
   "execution_count": null,
   "metadata": {
    "ExecuteTime": {
     "start_time": "2020-12-16T13:14:35.739Z"
    }
   },
   "outputs": [
    {
     "name": "stdout",
     "output_type": "stream",
     "text": [
      "WARNING:tensorflow:From E:\\Anaconda3Install\\lib\\site-packages\\tensorflow\\python\\framework\\op_def_library.py:263: colocate_with (from tensorflow.python.framework.ops) is deprecated and will be removed in a future version.\n",
      "Instructions for updating:\n",
      "Colocations handled automatically by placer.\n",
      "WARNING:tensorflow:From <ipython-input-7-c3d22492d131>:51: calling dropout (from tensorflow.python.ops.nn_ops) with keep_prob is deprecated and will be removed in a future version.\n",
      "Instructions for updating:\n",
      "Please use `rate` instead of `keep_prob`. Rate should be set to `rate = 1 - keep_prob`.\n",
      "step 0, train accuracy 0.0664062, test accuracy 0.109375\n"
     ]
    }
   ],
   "source": [
    "# 构造池化函数\n",
    "def weight_variable(shape):\n",
    "    # Outputs random values from a truncated normal distribution.\n",
    "    initial = tf.truncated_normal(shape, stddev=0.1)\n",
    "    return tf.Variable(initial)\n",
    "\n",
    "\n",
    "# 构造偏差b函数\n",
    "def bias_variable(shape):\n",
    "    initial = tf.constant(0.1, shape=shape)  # Creates a constant tensor\n",
    "    return tf.Variable(initial)\n",
    "\n",
    "\n",
    "# 构造卷积函数，输入x,w 与 padding 的形式\n",
    "def conv2d(x, W, padding):\n",
    "    return tf.nn.conv2d(x, W, strides=[1, 1, 1, 1],\n",
    "                        padding=padding)  # input tensor, filter tensor, strides: sliding window, padding algorithm 'same' 'valid'\n",
    "\n",
    "\n",
    "# 构造池化函数, kernel size=2*2\n",
    "def max_pool_2x2(x):\n",
    "    return tf.nn.max_pool(x, ksize=[1, 2, 2, 1],\n",
    "                          strides=[1, 2, 2, 1], padding='SAME')\n",
    "\n",
    "\n",
    "sess = tf.InteractiveSession()\n",
    "Dropout_Rate = tf.placeholder(tf.float32)\n",
    "\n",
    "x = tf.placeholder(tf.float32, shape=[None, 784])\n",
    "y_ = tf.placeholder(tf.float32, shape=[None, 10])\n",
    "\n",
    "W_conv1 = weight_variable([5, 5, 1, 24])\n",
    "b_conv1 = bias_variable([24])\n",
    "\n",
    "x_image = tf.reshape(x, [-1, 28, 28, 1])\n",
    "\n",
    "h_conv1 = tf.nn.relu(conv2d(x_image, W_conv1, 'SAME') + b_conv1)\n",
    "h_pool1 = max_pool_2x2(h_conv1)\n",
    "\n",
    "W_conv2 = weight_variable([3, 3, 24, 48])\n",
    "b_conv2 = bias_variable([48])\n",
    "\n",
    "h_conv2 = tf.nn.relu(conv2d(h_pool1, W_conv2, 'SAME') + b_conv2)\n",
    "h_pool2 = max_pool_2x2(h_conv2)\n",
    "\n",
    "W_fc1 = weight_variable([7 * 7 * 48, 256])\n",
    "b_fc1 = bias_variable([256])\n",
    "\n",
    "h_pool2_flat = tf.reshape(h_pool2, [-1, 7 * 7 * 48])\n",
    "\n",
    "dfc1 = tf.nn.dropout(h_pool2_flat, keep_prob=Dropout_Rate)\n",
    "h_fc1 = tf.nn.relu(tf.matmul(dfc1, W_fc1) + b_fc1)\n",
    "\n",
    "# h_fc1 = tf.nn.relu(tf.matmul(h_pool2_flat, W_fc1) + b_fc1)\n",
    "\n",
    "W_fc2 = weight_variable([256, 128])\n",
    "b_fc2 = bias_variable([128])\n",
    "\n",
    "dfc2 = tf.nn.dropout(h_fc1, keep_prob=Dropout_Rate)\n",
    "h_fc2 = tf.nn.relu(tf.matmul(dfc2, W_fc2) + b_fc2)\n",
    "\n",
    "# h_fc2 = tf.nn.relu(tf.matmul(h_fc1, W_fc2) + b_fc2)\n",
    "\n",
    "W_fc3 = weight_variable([128, 10])\n",
    "b_fc3 = bias_variable([10])\n",
    "\n",
    "y_conv = tf.nn.softmax(tf.matmul(h_fc2, W_fc3) + b_fc3)\n",
    "\n",
    "loss = -tf.reduce_sum(y_ * tf.log(tf.clip_by_value(y_conv, 10e-8, 1. - 10e-8)))\n",
    "equal = tf.equal(tf.argmax(y_conv, 1), tf.argmax(y_, 1))\n",
    "accuracy = tf.reduce_mean(tf.cast(equal, tf.float32))\n",
    "\n",
    "train_step = tf.train.AdamOptimizer(5 * 1e-4).minimize(loss)\n",
    "\n",
    "sess.run(tf.global_variables_initializer())\n",
    "tr_ac = []\n",
    "te_ac = []\n",
    "tr_lo = []\n",
    "te_lo = []\n",
    "batchNum = 256\n",
    "\n",
    "starttime = datetime.datetime.now()\n",
    "\n",
    "for i in range(40000):\n",
    "    batch = mnist.train.next_batch(batchNum)\n",
    "    if i % 2000 == 0:\n",
    "        train_accuracy = accuracy.eval(feed_dict={x: batch[0],\n",
    "                                                  y_: batch[1], Dropout_Rate: 1})\n",
    "        train_loss = loss.eval(feed_dict={x: batch[0],\n",
    "                                          y_: batch[1], Dropout_Rate: 1}) / batchNum\n",
    "        a = 10\n",
    "        b = batchNum\n",
    "        s = 0\n",
    "        sl = 0\n",
    "        for k in range(a):\n",
    "            testSet = mnist.test.next_batch(b)\n",
    "            c = accuracy.eval(\n",
    "                feed_dict={x: testSet[0], y_: testSet[1], Dropout_Rate: 1})\n",
    "            cl = loss.eval(\n",
    "                feed_dict={x: testSet[0], y_: testSet[1], Dropout_Rate: 1})\n",
    "            sl += cl * b\n",
    "            s += c * b\n",
    "        test_accuracy = (s / (b * a))\n",
    "        test_loss = (sl / (b * a) / batchNum)\n",
    "        print(\"step %d, train accuracy %g, test accuracy %g\" %\n",
    "              (i, train_accuracy, test_accuracy))\n",
    "        #        print(\"step %d, train loss %g, test loss %g\" % (i,train_loss, test_loss))\n",
    "        tr_ac.append(train_accuracy)\n",
    "        te_ac.append(test_accuracy)\n",
    "        tr_lo.append(train_loss)\n",
    "        te_lo.append(test_loss)\n",
    "    train_step.run(feed_dict={x: batch[0], y_: batch[1], Dropout_Rate: 0.3})\n",
    "\n",
    "endtime = datetime.datetime.now()\n",
    "\n",
    "# 使用matplot画出损失的变化曲线图\n",
    "plt.figure(figsize=(16, 5))\n",
    "plt.plot(np.squeeze(tr_ac), color='#2A688B')\n",
    "plt.plot(np.squeeze(te_ac), color=\"#F08080\")\n",
    "plt.xlim(0, 19)\n",
    "plt.ylabel(\"accuracy\")\n",
    "plt.xlabel(\"iterations\")\n",
    "plt.savefig('accuracy', dpi=300)\n",
    "plt.show()\n",
    "\n",
    "plt.figure(figsize=(16, 5))\n",
    "plt.plot(np.squeeze(tr_lo), color='#2A688B')\n",
    "plt.plot(np.squeeze(te_lo), color=\"#F08080\")\n",
    "plt.xlim(0, 19)\n",
    "plt.ylabel(\"loss\")\n",
    "plt.xlabel(\"iterations\")\n",
    "plt.savefig('loss', dpi=300)\n",
    "plt.show()\n",
    "\n",
    "a = 10\n",
    "b = batchNum\n",
    "s = 0\n",
    "for i in range(a):\n",
    "    testSet = mnist.test.next_batch(b)\n",
    "    c = accuracy.eval(\n",
    "        feed_dict={x: testSet[0], y_: testSet[1], Dropout_Rate: 1})\n",
    "    s += c * b\n",
    "print(\"Final test accuracy %g\" % (s / (b * a)))\n",
    "print(\"Traing time is %g seconds\" % (endtime - starttime).seconds)"
   ]
  },
  {
   "cell_type": "code",
   "execution_count": null,
   "metadata": {},
   "outputs": [],
   "source": []
  }
 ],
 "metadata": {
  "hide_input": false,
  "kernelspec": {
   "display_name": "Python 3",
   "language": "python",
   "name": "python3"
  },
  "language_info": {
   "codemirror_mode": {
    "name": "ipython",
    "version": 3
   },
   "file_extension": ".py",
   "mimetype": "text/x-python",
   "name": "python",
   "nbconvert_exporter": "python",
   "pygments_lexer": "ipython3",
   "version": "3.6.10"
  },
  "toc": {
   "base_numbering": 1,
   "nav_menu": {},
   "number_sections": true,
   "sideBar": true,
   "skip_h1_title": false,
   "title_cell": "Table of Contents",
   "title_sidebar": "Contents",
   "toc_cell": false,
   "toc_position": {
    "height": "calc(100% - 180px)",
    "left": "10px",
    "top": "150px",
    "width": "165px"
   },
   "toc_section_display": true,
   "toc_window_display": true
  },
  "varInspector": {
   "cols": {
    "lenName": 16,
    "lenType": 16,
    "lenVar": 40
   },
   "kernels_config": {
    "python": {
     "delete_cmd_postfix": "",
     "delete_cmd_prefix": "del ",
     "library": "var_list.py",
     "varRefreshCmd": "print(var_dic_list())"
    },
    "r": {
     "delete_cmd_postfix": ") ",
     "delete_cmd_prefix": "rm(",
     "library": "var_list.r",
     "varRefreshCmd": "cat(var_dic_list()) "
    }
   },
   "types_to_exclude": [
    "module",
    "function",
    "builtin_function_or_method",
    "instance",
    "_Feature"
   ],
   "window_display": false
  }
 },
 "nbformat": 4,
 "nbformat_minor": 4
}
